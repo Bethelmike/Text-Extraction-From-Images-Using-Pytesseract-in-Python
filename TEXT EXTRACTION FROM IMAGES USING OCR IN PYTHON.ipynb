{
 "cells": [
  {
   "cell_type": "code",
   "execution_count": 1,
   "id": "371b859f",
   "metadata": {},
   "outputs": [
    {
     "name": "stdout",
     "output_type": "stream",
     "text": [
      "Requirement already satisfied: pillow in c:\\users\\nmesoma\\appdata\\local\\anaconda3\\lib\\site-packages (9.4.0)\n"
     ]
    }
   ],
   "source": [
    "!pip install pillow"
   ]
  },
  {
   "cell_type": "code",
   "execution_count": 2,
   "id": "edd367f1",
   "metadata": {},
   "outputs": [
    {
     "name": "stdout",
     "output_type": "stream",
     "text": [
      "Requirement already satisfied: pytesseract in c:\\users\\nmesoma\\appdata\\local\\anaconda3\\lib\\site-packages (0.3.10)\n",
      "Requirement already satisfied: Pillow>=8.0.0 in c:\\users\\nmesoma\\appdata\\local\\anaconda3\\lib\\site-packages (from pytesseract) (9.4.0)\n",
      "Requirement already satisfied: packaging>=21.3 in c:\\users\\nmesoma\\appdata\\local\\anaconda3\\lib\\site-packages (from pytesseract) (22.0)\n"
     ]
    }
   ],
   "source": [
    "!pip install pytesseract"
   ]
  },
  {
   "cell_type": "code",
   "execution_count": 3,
   "id": "a3558778",
   "metadata": {},
   "outputs": [],
   "source": [
    "from PIL import Image\n",
    "import pytesseract\n",
    "pytesseract.pytesseract.tesseract_cmd = r\"C:\\Program Files\\Tesseract-OCR\\tesseract.exe\""
   ]
  },
  {
   "cell_type": "code",
   "execution_count": 9,
   "id": "10382f25",
   "metadata": {},
   "outputs": [
    {
     "name": "stdout",
     "output_type": "stream",
     "text": [
      "Extracted Text: ee 14-1-320, anger, ferarerrart, Sexrare - 500 001\n",
      "Bank J 14-1-320, AGAPURA, SITARAMBAGH, HYDERABAD - 500001 | AS | 0. 4 [2 | 0 | \\ 6 |\n",
      "DMM ad Y\n",
      "\n",
      "IFSC : SYNB0003011 (CBS) D\n",
      "\n",
      "Pay Da Wake. p Mader Kin al ah wt or Bearer\n",
      "waa Rupees are £ rapt ee\n",
      "\n",
      "ane 8S. 00 , ove/ - |\n",
      "\n",
      "Nc. No matali ©\n",
      "\n",
      "MANIPAL TECHNOLOGIES LTD.,MANIPAL / CTS - 2010\n",
      "\n",
      "am & aft ararait F arqea H eg\n",
      "\\ \\\\ Payable at par at all branches of our Bank Sa\n",
      "| SAN: 290062083654 QW\n",
      "\n",
      ") ; Please sign above\n",
      "\n",
      "WOB83S654\" SOOO 25033 290062\" 4h\n",
      "\n"
     ]
    }
   ],
   "source": [
    "image_path = r\"C:\\Users\\NMESOMA\\Pictures\\images\\Cheque083654.jpg\"\n",
    "# Open the image file\"C\n",
    "img = Image.open(image_path)\n",
    "\n",
    "# Perform OCR using pytesseract\n",
    "text = pytesseract.image_to_string(img)\n",
    "\n",
    "# Extracted text\n",
    "print(\"Extracted Text:\", text)"
   ]
  },
  {
   "cell_type": "code",
   "execution_count": null,
   "id": "83e1c55f",
   "metadata": {},
   "outputs": [],
   "source": []
  }
 ],
 "metadata": {
  "kernelspec": {
   "display_name": "Python 3 (ipykernel)",
   "language": "python",
   "name": "python3"
  },
  "language_info": {
   "codemirror_mode": {
    "name": "ipython",
    "version": 3
   },
   "file_extension": ".py",
   "mimetype": "text/x-python",
   "name": "python",
   "nbconvert_exporter": "python",
   "pygments_lexer": "ipython3",
   "version": "3.10.9"
  }
 },
 "nbformat": 4,
 "nbformat_minor": 5
}
